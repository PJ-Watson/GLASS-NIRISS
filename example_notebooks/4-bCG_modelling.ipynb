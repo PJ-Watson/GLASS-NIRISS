{
 "cells": [
  {
   "cell_type": "code",
   "execution_count": null,
   "metadata": {},
   "outputs": [],
   "source": [
    "from pathlib import Path\n",
    "import yaml\n",
    "import os\n",
    "\n",
    "root_dir = root_dir = Path(os.getenv(\"ROOT_DIR\"))\n",
    "out_base_dir = root_dir / \"2024_08_16_A2744_v4\" / \"glass_niriss\"\n",
    "bin_data_dir = out_base_dir / \"binned_data\"\n",
    "\n",
    "repr_seg_path = out_base_dir / \"PSF_matched_data\" / \"repr_seg_map.fits\"\n",
    "\n",
    "with open(out_base_dir / \"conv_ancillary_data.yaml\", \"r\") as file:\n",
    "    info_dict = yaml.safe_load(file)"
   ]
  },
  {
   "cell_type": "code",
   "execution_count": null,
   "metadata": {},
   "outputs": [],
   "source": [
    "from glass_niriss.isophotal import ClusterModels\n",
    "\n",
    "filt_key = \"jwst-nircam-f115w\"\n",
    "\n",
    "print (info_dict[filt_key])\n",
    "\n",
    "import matplotlib.pyplot as plt\n",
    "from astropy.io import fits\n",
    "from astropy.table import Table\n",
    "\n",
    "with fits.open(str(info_dict[filt_key][\"sci\"]).replace(\"conv\",\"repr\")) as hdul:\n",
    "    plt.imshow(hdul[0].data, vmin=-0.01, vmax=10, origin=\"lower\")"
   ]
  },
  {
   "cell_type": "code",
   "execution_count": null,
   "metadata": {},
   "outputs": [],
   "source": [
    "from astropy.coordinates import SkyCoord\n",
    "import astropy.units as u\n",
    "\n",
    "sci_path = str(info_dict[filt_key][\"sci\"]).replace(\"conv\",\"repr\")\n",
    "sci_path = root_dir / \"2024_08_16_A2744_v4\" / \"tests\" / \"repr_abell2744clu-grizli-v7.2-f200w-clear_drc_sci.fits\"\n",
    "\n",
    "input_bcgs = Table.read(\n",
    "    root_dir\n",
    "    / \"2023_11_27__data_products_for_reduction\"\n",
    "    / \"ancillary\"\n",
    "    / \"matched_cat.fits\"\n",
    ")\n",
    "bcg_info = Table.read(\n",
    "    root_dir\n",
    "    / \"2023_11_07_spectral_orders\"\n",
    "    / \"Prep\"\n",
    "    / \"nis-wfss-ir.cat.fits\"\n",
    ")\n",
    "# print (bcg)\n",
    "bcg_coords = SkyCoord.guess_from_table(bcg_info)\n",
    "match, _, _ = SkyCoord.guess_from_table(input_bcgs).match_to_catalog_sky(bcg_coords)\n",
    "bcg_info = bcg_info[match]\n",
    "input_bcgs[\"FLUX_AUTO\"] = bcg_info[\"FLUX_AUTO\"]\n",
    "input_bcgs.sort(\"FLUX_AUTO\", reverse=True)\n",
    "\n",
    "out_dir = out_base_dir / \"bCG_model_tests\"\n",
    "CM = ClusterModels(\n",
    "    output_dir=out_dir,\n",
    "    # ra_key=\"t\"\n",
    ")"
   ]
  },
  {
   "cell_type": "code",
   "execution_count": null,
   "metadata": {},
   "outputs": [],
   "source": [
    "CM.load_bcg_catalogue(input_bcgs)\n",
    "CM.load_image(sci_path)\n",
    "\n",
    "if not (out_dir / \"A2744_cluster_models_seg.fits\").is_file():\n",
    "    CM.gen_segmentation()\n",
    "CM.load_segmentation(out_dir / \"A2744_cluster_models_seg.fits\")\n",
    "\n",
    "CM.match_bcgs(plot=True)"
   ]
  },
  {
   "cell_type": "code",
   "execution_count": null,
   "metadata": {},
   "outputs": [],
   "source": [
    "sci_psf = fits.getdata(info_dict[filt_key][\"psf\"])\n",
    "\n",
    "from scipy.ndimage import zoom\n",
    "from astropy.nddata import block_reduce\n",
    "import astropy.visualization as astrovis\n",
    "import numpy as np\n",
    "\n",
    "scale = 10\n",
    "zoom_in = zoom(sci_psf, scale)\n",
    "# zoom_out = zoom(zoom_in, 0.25)\n",
    "zoom_out = block_reduce(zoom_in, scale*2)\n",
    "zoom_out = block_reduce(np.pad(zoom_in,(5,5)), scale*2)\n",
    "print (sci_psf.shape, zoom_in.shape, zoom_out.shape,np.pad(zoom_in,(10,10)).shape)\n",
    "\n",
    "fig, axs = plt.subplots(1,3)\n",
    "for i, plot_psf in enumerate([sci_psf, zoom_in, zoom_out]):\n",
    "    # centre_crop = (\n",
    "    #     slice(plot_psf.shape[0]//2-10, plot_psf.shape[0]//2+10),\n",
    "    #     slice(plot_psf.shape[1]//2-10, plot_psf.shape[1]//2+10)\n",
    "    # )\n",
    "    centre_crop = (slice(0,None),slice(0,None))\n",
    "    print (np.nansum(plot_psf))\n",
    "    axs[i].imshow(plot_psf[centre_crop], norm=astrovis.ImageNormalize(plot_psf[centre_crop], interval=astrovis.PercentileInterval(99.9), stretch=astrovis.LogStretch()))\n",
    "\n",
    "zoom_out /= np.nansum(zoom_out)\n",
    "\n",
    "reduced_psf = zoom_out"
   ]
  },
  {
   "cell_type": "code",
   "execution_count": null,
   "metadata": {},
   "outputs": [],
   "source": [
    "\n",
    "CM.model_galaxies(psf=reduced_psf)"
   ]
  },
  {
   "cell_type": "code",
   "execution_count": null,
   "metadata": {},
   "outputs": [],
   "source": [
    "CM.model_galaxies()"
   ]
  }
 ],
 "metadata": {
  "kernelspec": {
   "display_name": "py3.12_GLASS_pipeline",
   "language": "python",
   "name": "python3"
  },
  "language_info": {
   "codemirror_mode": {
    "name": "ipython",
    "version": 3
   },
   "file_extension": ".py",
   "mimetype": "text/x-python",
   "name": "python",
   "nbconvert_exporter": "python",
   "pygments_lexer": "ipython3",
   "version": "3.12.3"
  }
 },
 "nbformat": 4,
 "nbformat_minor": 2
}
