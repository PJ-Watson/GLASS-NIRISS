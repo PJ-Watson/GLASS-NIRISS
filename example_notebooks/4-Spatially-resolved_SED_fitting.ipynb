{
 "cells": [
  {
   "cell_type": "markdown",
   "metadata": {},
   "source": [
    "### Spatially-resolved SED fitting\n",
    "\n",
    "A demonstration of an optimised method for spatially-resolved SED fitting, using [bagpipes](https://bagpipes.readthedocs.io/).\n",
    "\n",
    "Following on from last time, let's set up the basic parameters and directories."
   ]
  },
  {
   "cell_type": "code",
   "execution_count": 1,
   "metadata": {},
   "outputs": [],
   "source": [
    "from pathlib import Path\n",
    "import yaml\n",
    "import os\n",
    "\n",
    "# As always, setup some directory structure\n",
    "root_dir = Path(\"/media\") / \"sharedData\" / \"data\"\n",
    "out_base_dir = root_dir / \"2024_08_16_A2744_v4\" / \"glass_niriss\"\n",
    "bin_data_dir = out_base_dir / \"binned_data\"\n",
    "\n",
    "# The location of the reprojected segmentation map\n",
    "repr_seg_path = out_base_dir / \"PSF_matched_data\" / \"repr_seg_map.fits\"\n",
    "\n",
    "# Load the info for the ancillary data\n",
    "with open(out_base_dir / \"conv_ancillary_data.yaml\", \"r\") as file:\n",
    "    info_dict = yaml.safe_load(file)"
   ]
  },
  {
   "cell_type": "markdown",
   "metadata": {},
   "source": [
    "Fitting the SED of an object using broad-band photometry requires knowledge of the filter sensitivity curves. To save some time for anyone interested in running this, the ``glass-niriss`` repository does include a filter directory under ``example_notebooks/``, for the bands used in processing A2744. For other instruments, [sedpy](https://sedpy.readthedocs.io/en/latest/) or [SVO](http://svo2.cab.inta-csic.es/theory/fps/) are excellent resources."
   ]
  },
  {
   "cell_type": "code",
   "execution_count": 2,
   "metadata": {},
   "outputs": [],
   "source": [
    "# Create the [bag]pipes directory\n",
    "pipes_dir = out_base_dir / \"sed_fitting\" / \"pipes\"\n",
    "pipes_dir.mkdir(exist_ok=True, parents=True)\n",
    "\n",
    "# Create the filter directory; populate as needed\n",
    "filter_dir = pipes_dir / \"filter_throughputs\"\n",
    "filter_dir.mkdir(exist_ok=True, parents=True)"
   ]
  },
  {
   "cell_type": "markdown",
   "metadata": {},
   "source": [
    "Load the"
   ]
  },
  {
   "cell_type": "code",
   "execution_count": 3,
   "metadata": {},
   "outputs": [],
   "source": [
    "filter_list = []\n",
    "for key in info_dict.keys():\n",
    "    filter_list.append(str(filter_dir / f\"{key}.txt\"))"
   ]
  },
  {
   "cell_type": "code",
   "execution_count": 4,
   "metadata": {},
   "outputs": [],
   "source": [
    "atlas_dir = pipes_dir / \"atlases\"\n",
    "atlas_dir.mkdir(exist_ok=True, parents=True)"
   ]
  },
  {
   "cell_type": "code",
   "execution_count": 5,
   "metadata": {},
   "outputs": [
    {
     "name": "stdout",
     "output_type": "stream",
     "text": [
      "[    0.            30.            79.05196704   208.30711644\n",
      "   548.90291012  1446.39515869  3811.3460805  10043.14682478]\n",
      "{'redshift': 0.3006, 'continuity': {'massformed': (3, 11), 'metallicity': (0.0, 3.0), 'metallicity_prior_mu': 1.0, 'metallicity_prior_sigma': 0.5, 'bin_edges': [0.0, 30.0, 79.05196704245525, 208.30711644271452, 548.9029101246119, 1446.3951586892867, 3811.3460805024115, 10043.146824775593], 'dsfr1': (-10.0, 10.0), 'dsfr1_prior': 'student_t', 'dsfr2': (-10.0, 10.0), 'dsfr2_prior': 'student_t', 'dsfr3': (-10.0, 10.0), 'dsfr3_prior': 'student_t', 'dsfr4': (-10.0, 10.0), 'dsfr4_prior': 'student_t', 'dsfr5': (-10.0, 10.0), 'dsfr5_prior': 'student_t', 'dsfr6': (-10.0, 10.0), 'dsfr6_prior': 'student_t', 'dsfr7': (-10.0, 10.0), 'dsfr7_prior': 'student_t', 'metallicity_prior': 'Gaussian'}, 'dust': {'type': 'Cardelli', 'Av': (0.0, 2.0), 'eta': 2.0}, 'nebular': {'logU': (-3.5, -2)}, 't_bc': 0.02}\n"
     ]
    }
   ],
   "source": [
    "obj_id = 2495\n",
    "obj_z = 1.3397\n",
    "\n",
    "obj_id = 3217\n",
    "obj_z = 2.6724\n",
    "\n",
    "obj_id = 2186\n",
    "obj_z = 0.3033\n",
    "\n",
    "# obj_id = 4196\n",
    "# obj_z = 0.2966\n",
    "obj_id = 2618\n",
    "obj_z = 0.3006\n",
    "obj_id = 2398\n",
    "obj_z = 0.3006\n",
    "\n",
    "num_age_bins = 7\n",
    "\n",
    "from astropy.cosmology import FlatLambdaCDM\n",
    "import numpy as np\n",
    "\n",
    "# Set up necessary variables for cosmological calculations.\n",
    "cosmo = FlatLambdaCDM(H0=70., Om0=0.3)\n",
    "age_at_z = cosmo.age(obj_z).value\n",
    "\n",
    "# Minimum age bin of 30 Myr\n",
    "min_age_bin = 30\n",
    "\n",
    "age_bins = np.geomspace(min_age_bin,age_at_z*1e3,num=num_age_bins)\n",
    "\n",
    "age_bins = np.insert(age_bins,0,0.)\n",
    "\n",
    "print (age_bins)\n",
    "# print (age_at_z)\n",
    "\n",
    "fit_instr = np.load(\n",
    "    Path(\"/media\") / \"sharedData\" / \"data\"\n",
    "    / \"2024_02_14_RPS/PSF_matching/bagpipes/\"\n",
    "    / f\"fit_info_F0083_leja_100_-200_200_-100_cvt_wvt_dust_corr_7_bins.npy\",\n",
    "    allow_pickle=True,\n",
    ").item()\n",
    "fit_instr[\"continuity\"][\"metallicity_prior\"] = \"Gaussian\"\n",
    "fit_instr[\"continuity\"][\"massformed\"] = (3,11)\n",
    "# fit_instr[\"continuity\"][\"bin_edges\"] = [0.,30.,100.,300.,500.,1000.,2000.,4000.]\n",
    "fit_instr[\"continuity\"][\"bin_edges\"] = age_bins.tolist()\n",
    "# [0.0, 30.0, 100.0, 300.0, 1000.0, 2500.0, 7500.0, 10000.0]\n",
    "fit_instr[\"dust\"][\"eta\"] = 2.\n",
    "fit_instr[\"redshift\"] = obj_z\n",
    "\n",
    "print (fit_instr)"
   ]
  },
  {
   "cell_type": "code",
   "execution_count": 6,
   "metadata": {},
   "outputs": [],
   "source": [
    "from glass_niriss.sed import AtlasGenerator\n",
    "\n",
    "n_samples = 1e5\n",
    "n_cores = 16\n",
    "\n",
    "remake_atlas = False\n",
    "atlas_path = atlas_dir / f\"z_{obj_z}_{obj_z}_{n_samples:.2E}.hdf5\"\n",
    "\n",
    "if not atlas_path.is_file() or remake_atlas:\n",
    "\n",
    "    atlas_gen = AtlasGenerator(\n",
    "        fit_instructions=fit_instr,\n",
    "        filt_list=filter_list,\n",
    "        phot_units=\"ergscma\",\n",
    "    )\n",
    "\n",
    "    atlas_gen.gen_samples(n_samples=n_samples, parallel=n_cores)\n",
    "\n",
    "    atlas_gen.write_samples(filepath=atlas_path)"
   ]
  },
  {
   "cell_type": "code",
   "execution_count": 7,
   "metadata": {},
   "outputs": [
    {
     "name": "stdout",
     "output_type": "stream",
     "text": [
      "{'redshift': 0.3006, 'continuity': {'massformed': (3, 11), 'metallicity': (0.0, 3.0), 'metallicity_prior_mu': 1.0, 'metallicity_prior_sigma': 0.5, 'bin_edges': [0.0, 30.0, 79.05196704245525, 208.30711644271452, 548.9029101246119, 1446.3951586892867, 3811.3460805024115, 10043.146824775593], 'dsfr1': (-10.0, 10.0), 'dsfr1_prior': 'student_t', 'dsfr2': (-10.0, 10.0), 'dsfr2_prior': 'student_t', 'dsfr3': (-10.0, 10.0), 'dsfr3_prior': 'student_t', 'dsfr4': (-10.0, 10.0), 'dsfr4_prior': 'student_t', 'dsfr5': (-10.0, 10.0), 'dsfr5_prior': 'student_t', 'dsfr6': (-10.0, 10.0), 'dsfr6_prior': 'student_t', 'dsfr7': (-10.0, 10.0), 'dsfr7_prior': 'student_t', 'metallicity_prior': 'Gaussian'}, 'dust': {'type': 'Cardelli', 'Av': (0.0, 2.0), 'eta': 2.0}, 'nebular': {'logU': (-3.5, -2)}, 't_bc': 0.02}\n",
      "Fitting 535 objects using 8 process(es).\n"
     ]
    },
    {
     "name": "stderr",
     "output_type": "stream",
     "text": [
      " 26%|██▌       | 140/535 [00:00<00:02, 178.28it/s]/media/sharedData/python/py3.12_GLASS_pipeline/code/GLASS-NIRISS/src/glass_niriss/pipeline/sed_fits.py:48: RuntimeWarning: invalid value encountered in sqrt\n",
      "  errs.append(np.sqrt(phot_cat[c][row_idx]))\n",
      "/media/sharedData/python/py3.12_GLASS_pipeline/code/GLASS-NIRISS/src/glass_niriss/pipeline/sed_fits.py:48: RuntimeWarning: invalid value encountered in sqrt\n",
      "  errs.append(np.sqrt(phot_cat[c][row_idx]))\n",
      "/media/sharedData/python/py3.12_GLASS_pipeline/code/GLASS-NIRISS/src/glass_niriss/pipeline/sed_fits.py:48: RuntimeWarning: invalid value encountered in sqrt\n",
      "  errs.append(np.sqrt(phot_cat[c][row_idx]))\n",
      " 35%|███▍      | 187/535 [00:03<00:10, 33.77it/s] /media/sharedData/python/py3.12_GLASS_pipeline/code/GLASS-NIRISS/src/glass_niriss/pipeline/sed_fits.py:48: RuntimeWarning: invalid value encountered in sqrt\n",
      "  errs.append(np.sqrt(phot_cat[c][row_idx]))\n",
      " 70%|██████▉   | 374/535 [00:07<00:02, 54.41it/s]/media/sharedData/python/py3.12_GLASS_pipeline/code/GLASS-NIRISS/src/glass_niriss/pipeline/sed_fits.py:48: RuntimeWarning: invalid value encountered in sqrt\n",
      "  errs.append(np.sqrt(phot_cat[c][row_idx]))\n",
      " 73%|███████▎  | 391/535 [00:08<00:03, 38.59it/s]/media/sharedData/python/py3.12_GLASS_pipeline/code/GLASS-NIRISS/src/glass_niriss/pipeline/sed_fits.py:48: RuntimeWarning: invalid value encountered in sqrt\n",
      "  errs.append(np.sqrt(phot_cat[c][row_idx]))\n",
      " 86%|████████▌ | 459/535 [00:11<00:02, 34.26it/s]/media/sharedData/python/py3.12_GLASS_pipeline/code/GLASS-NIRISS/src/glass_niriss/pipeline/sed_fits.py:48: RuntimeWarning: invalid value encountered in sqrt\n",
      "  errs.append(np.sqrt(phot_cat[c][row_idx]))\n",
      "100%|██████████| 535/535 [00:12<00:00, 43.62it/s]\n"
     ]
    },
    {
     "name": "stdout",
     "output_type": "stream",
     "text": [
      "#ID continuity:dsfr1_16  ...    log_evidence    log_evidence_err\n",
      "--- -------------------- ... ------------------ ----------------\n",
      "  0 -0.24192620231311024 ...  818.9254854868528              nan\n",
      "  1  -0.7219482301184051 ... 1234.0689765911413              nan\n",
      "  2  -0.8124089748961899 ...  1306.555547450165              nan\n",
      "  3  -0.6543210484150205 ... 1499.1869629980713              nan\n",
      "  4   -0.828660782498053 ...  1387.293062228181              nan\n",
      "  5  -1.0031164883190986 ... 1281.9193814242653              nan\n",
      "  6  -1.0016935554313773 ...  1225.225720000277              nan\n",
      "  7  -0.7765542819505186 ... 1293.5060040836138              nan\n",
      "  8  -0.9690760642450267 ... 1221.0429490680995              nan\n",
      "  9   -0.693416358246661 ... 1357.8890363482199              nan\n",
      "...                  ... ...                ...              ...\n",
      "525   -1.051332755742192 ... 1244.6855010838615              nan\n",
      "526  -0.8332840639086517 ...  1052.831488595235              nan\n",
      "527  -0.5829860812108834 ... 1257.7580104411952              nan\n",
      "528   -0.614465635292436 ... 1167.2352196209506              nan\n",
      "529  -1.3746498147992294 ... 1191.4793084565174              nan\n",
      "530  -0.7278438594917805 ...   1190.31452178279              nan\n",
      "531  -0.6035128940751919 ... 1229.3306137023337              nan\n",
      "532 -0.48502925017427795 ...  1269.516452974958              nan\n",
      "533  -0.5997815677876405 ... 1127.7397522768676              nan\n",
      "534 -0.43788022558114664 ... 1099.9907566891366              nan\n",
      "Length = 535 rows\n"
     ]
    },
    {
     "name": "stderr",
     "output_type": "stream",
     "text": [
      "WARNING: VerifyWarning: It is strongly recommended that column names contain only upper and lower-case ASCII letters, digits, or underscores for maximum compatibility with other software (got '#ID'). [astropy.io.fits.column]\n"
     ]
    }
   ],
   "source": [
    "from glass_niriss.pipeline import load_photom_bagpipes\n",
    "from glass_niriss.sed import AtlasFitter\n",
    "from functools import partial\n",
    "\n",
    "hexbin = True\n",
    "bin_diameter = 12\n",
    "target_sn = 100\n",
    "sn_filter = \"jwst-nircam-f115w\"\n",
    "\n",
    "binned_name = f\"{obj_id}_{\"hexbin\" if hexbin else \"vorbin\"}_{bin_diameter}_{target_sn}\"\n",
    "phot_cat_path = bin_data_dir / f\"{binned_name}_data.fits\"\n",
    "\n",
    "load_fn = partial(load_photom_bagpipes, phot_cat = phot_cat_path, cat_hdu_index=\"PHOT_CAT\")\n",
    "\n",
    "fit = AtlasFitter(\n",
    "    fit_instructions=fit_instr,\n",
    "    atlas_path=atlas_path,\n",
    "    out_path=out_base_dir,\n",
    ")\n",
    "\n",
    "from astropy.table import Table\n",
    "obs_table = Table.read(bin_data_dir / f\"{binned_name}_data.fits\", hdu=\"PHOT_CAT\")\n",
    "\n",
    "cat_IDs = np.arange(len(obs_table))[:]\n",
    "redshifts = [obj_z] * len(cat_IDs)\n",
    "\n",
    "run_name = f\"{binned_name}_z_{obj_z}_{obj_z}_{n_samples:.2E}\"\n",
    "\n",
    "catalogue_out_path = fit.out_path / Path(\n",
    "    f\"{run_name}.fits\"\n",
    ")\n",
    "if not catalogue_out_path.is_file():\n",
    "\n",
    "    fit.fit_catalogue(\n",
    "        IDs=cat_IDs,\n",
    "        load_data=load_fn,\n",
    "        spectrum_exists=False,\n",
    "        make_plots=False,\n",
    "        cat_filt_list=filter_list,\n",
    "        redshifts=redshifts,\n",
    "        run=f\"{run_name}\",\n",
    "        parallel=8,\n",
    "    )\n",
    "    print(fit.cat)\n",
    "    fit.cat.write(catalogue_out_path)\n",
    "else:\n",
    "    fit.cat = Table.read(catalogue_out_path)"
   ]
  },
  {
   "cell_type": "code",
   "execution_count": 8,
   "metadata": {},
   "outputs": [
    {
     "data": {
      "image/png": "[encoded data removed]",
      "text/plain": [
       "<Figure size 640x480 with 2 Axes>"
      ]
     },
     "metadata": {},
     "output_type": "display_data"
    }
   ],
   "source": [
    "import matplotlib.pyplot as plt\n",
    "import cmcrameri.cm as cmc\n",
    "from astropy.io import fits\n",
    "fig, axs = plt.subplots(1, 1)\n",
    "\n",
    "seg_map = fits.getdata(phot_cat_path, hdu=\"SEG_MAP\")\n",
    "\n",
    "plot_map = np.full_like(seg_map, np.nan, dtype=float)\n",
    "for row in fit.cat:\n",
    "    plot_map[seg_map == int(row[\"#ID\"])] = (\n",
    "        row[\n",
    "            # \"continuity:massformed_50\"\n",
    "            # \"stellar_mass_50\"\n",
    "            # \"ssfr_50\"\n",
    "            # \"sfr_50\"\n",
    "            # \"continuity:metallicity_50\"\n",
    "            \"mass_weighted_age_50\"\n",
    "            # \"dust:Av_50\"\n",
    "            # \"dust:eta\"\n",
    "            # \"nebular:logU_50\"\n",
    "        ]\n",
    "        # *row[\n",
    "        #     \"dust:eta_50\"\n",
    "        # ]\n",
    "        # /\n",
    "        # -\n",
    "        # np.log10(\n",
    "        # (len((seg_map == int(row[\"#ID\"])).nonzero()[0])\n",
    "        # * ((0.04 * 4.63) ** 2))\n",
    "        # )\n",
    "    )\n",
    "plot_map[seg_map==0] = np.nan\n",
    "im = axs.imshow(\n",
    "    plot_map,\n",
    "    # np.log10(plot_map),\n",
    "    origin=\"lower\",\n",
    "    # vmin=3,\n",
    "    # vmax=9,\n",
    "    # vmin=-4,\n",
    "    # vmax=1,\n",
    "    # vmin=-12,\n",
    "    # vmax=-8,\n",
    "    # vmin=-8,\n",
    "    # vmax=-3,\n",
    "    # cmap=\"plasma\",\n",
    "    # vmin=0,\n",
    "    cmap=\"rainbow\"\n",
    "    # cmap = cmc.lajolla\n",
    ")\n",
    "axs.set_facecolor(\"k\")\n",
    "plt.colorbar(im)\n",
    "\n",
    "plt.show()"
   ]
  }
 ],
 "metadata": {
  "kernelspec": {
   "display_name": "py3.12_GLASS_pipeline",
   "language": "python",
   "name": "python3"
  },
  "language_info": {
   "codemirror_mode": {
    "name": "ipython",
    "version": 3
   },
   "file_extension": ".py",
   "mimetype": "text/x-python",
   "name": "python",
   "nbconvert_exporter": "python",
   "pygments_lexer": "ipython3",
   "version": "3.12.7"
  }
 },
 "nbformat": 4,
 "nbformat_minor": 2
}
